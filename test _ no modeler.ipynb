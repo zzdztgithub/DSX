{
    "cells": [
        {
            "cell_type": "code", 
            "outputs": [
                {
                    "text": "hellow world\n", 
                    "output_type": "stream", 
                    "name": "stdout"
                }
            ], 
            "metadata": {
                "collapsed": false
            }, 
            "source": "print \"hellow world\"", 
            "execution_count": 1
        }, 
        {
            "cell_type": "code", 
            "outputs": [], 
            "metadata": {
                "collapsed": true
            }, 
            "source": "", 
            "execution_count": null
        }
    ], 
    "nbformat": 4, 
    "metadata": {
        "kernelspec": {
            "display_name": "Python 2 with Spark 1.6", 
            "name": "python2", 
            "language": "python"
        }, 
        "language_info": {
            "mimetype": "text/x-python", 
            "version": "2.7.11", 
            "file_extension": ".py", 
            "name": "python", 
            "pygments_lexer": "ipython2", 
            "nbconvert_exporter": "python", 
            "codemirror_mode": {
                "version": 2, 
                "name": "ipython"
            }
        }
    }, 
    "nbformat_minor": 0
}