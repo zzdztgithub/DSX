{
    "metadata": {
        "kernelspec": {
            "name": "python2", 
            "display_name": "Python 2 with Spark 1.6", 
            "language": "python"
        }, 
        "language_info": {
            "version": "2.7.11", 
            "file_extension": ".py", 
            "nbconvert_exporter": "python", 
            "codemirror_mode": {
                "version": 2, 
                "name": "ipython"
            }, 
            "name": "python", 
            "mimetype": "text/x-python", 
            "pygments_lexer": "ipython2"
        }
    }, 
    "cells": [
        {
            "metadata": {
                "collapsed": false
            }, 
            "cell_type": "code", 
            "outputs": [
                {
                    "text": "hellow world\n", 
                    "name": "stdout", 
                    "output_type": "stream"
                }
            ], 
            "execution_count": 2, 
            "source": "print \"hellow world\""
        }, 
        {
            "metadata": {
                "collapsed": false
            }, 
            "cell_type": "code", 
            "outputs": [
                {
                    "text": "--2017-02-08 02:15:00--  https://ibm.box.com/shared/static/1c65hfqjxyxpdkts42oab8i8mzxbpvc8.zip\nResolving ibm.box.com (ibm.box.com)... 107.152.25.197, 107.152.24.197\nConnecting to ibm.box.com (ibm.box.com)|107.152.25.197|:443... connected.\nHTTP request sent, awaiting response... 302 Found\nLocation: https://ibm.ent.box.com/shared/static/1c65hfqjxyxpdkts42oab8i8mzxbpvc8.zip [following]\n--2017-02-08 02:15:00--  https://ibm.ent.box.com/shared/static/1c65hfqjxyxpdkts42oab8i8mzxbpvc8.zip\nResolving ibm.ent.box.com (ibm.ent.box.com)... 107.152.25.211, 107.152.24.211\nConnecting to ibm.ent.box.com (ibm.ent.box.com)|107.152.25.211|:443... connected.\nHTTP request sent, awaiting response... 302 Found\nLocation: https://public.boxcloud.com/d/1/LCYGisGSfF-c9ccpReFR5y5WVWwXceACuoeXaNkCvJCkALncViO9gXMIdWDcjxxHjBK5ZHbASKiEnoDuJR4UuB8GbKVfkpNivBbtNaASiN4VlPmpgfFDEDXxPOC47iIpJtGXbExLlW84Iu1Qq1ZjJYddWktBB6gTkCIYIMaA2Muh8R-EhrPGM6jM-p_efeg8SXhTQPKehJ5opLPG_zpg6AVYfi6GC6yvHAPMC3OR5nlhvzNEy76vc2YQi3xzrGRjQ957qUdDNDGOr7k03AJBqHZKYOr54V68_s9fz3Ly7-rwK2Y3gaQ113Y4OmSA9mYTZD89AK8Uv-iqt2sqZ2bnr8u6WZPQLTG5ZH4Tv5wcCC92rHF3vtwXUtwr2vCgnxGo6vgJ8eaK049xC-991zvVD1lOOlXFBIzBfuPvRP2noqalcfrjznWyaasS_0AwDkdnOpBuMr4Vy5QD96lbQeL-FoRbFsv3aLAjPxqlaTBW2IR4cIpATgdx2a2E-bFU3cj0z2lF4zDSgHDD07pCKeQ5Blart_oemOf_vHxolHstv-x86VmH_CqQMcvirrA_V2efxZl4qepRNXZKH4UFmj5tNDwbvqaci26y5AezspC-4bIn_2fnOJNFG8HNrsP3n7HLYze5r0vFQOk85GzOtzf0M6ScMOIdJxQbzOQnBMu-FVR9884g0pgxuF6NNNNT8wcL1Emxz07CSZb6hKqkTKnnKE0Zf9b6WLRTg6z8xFHePBblMdGmhTfp_dL49Q1uNIHvzITD_dQ67omZqsdaonpCLM7GAu9bcYkkPblBnh5ezb6YVZZn9atRVGFopH7MMD2EOwxkU3Z6F5fpedSKZm8XQaSawzna9_fXGpi7y-PcCTd-YEqTsR26DIJR0L8kFNmtVcMJnns3i0V84oKwJLduLM6T2teQAz8_P1YhxK5HhaiF9h1Wl00yw-Y4LJoZvktWTXSb_-F8OW9oFMC-L5ADxVSspV43awHqxq5aIOXoX4dS6t8vNsMap8CO2Af4C_rG1ZaZkXfdCAFEVXcDX1gzBx1LAKc3iPxcEcsZioPrZSUANVXdwbYhfwSEP0PtP0NToYHP4QPt9yLaRG_5YKlNhjnWuohmkl_J4GSv3XEs4r2N0nJCXV5PTDCHal3u18iEjCzuRXrZjKbZ3viMAFq6IHklP-jypmmT8U2qIVPBB5JzxeiL95hWJh_YQ-uaQmaRiqIUNlSItPmC/download [following]\n--2017-02-08 02:15:00--  https://public.boxcloud.com/d/1/LCYGisGSfF-c9ccpReFR5y5WVWwXceACuoeXaNkCvJCkALncViO9gXMIdWDcjxxHjBK5ZHbASKiEnoDuJR4UuB8GbKVfkpNivBbtNaASiN4VlPmpgfFDEDXxPOC47iIpJtGXbExLlW84Iu1Qq1ZjJYddWktBB6gTkCIYIMaA2Muh8R-EhrPGM6jM-p_efeg8SXhTQPKehJ5opLPG_zpg6AVYfi6GC6yvHAPMC3OR5nlhvzNEy76vc2YQi3xzrGRjQ957qUdDNDGOr7k03AJBqHZKYOr54V68_s9fz3Ly7-rwK2Y3gaQ113Y4OmSA9mYTZD89AK8Uv-iqt2sqZ2bnr8u6WZPQLTG5ZH4Tv5wcCC92rHF3vtwXUtwr2vCgnxGo6vgJ8eaK049xC-991zvVD1lOOlXFBIzBfuPvRP2noqalcfrjznWyaasS_0AwDkdnOpBuMr4Vy5QD96lbQeL-FoRbFsv3aLAjPxqlaTBW2IR4cIpATgdx2a2E-bFU3cj0z2lF4zDSgHDD07pCKeQ5Blart_oemOf_vHxolHstv-x86VmH_CqQMcvirrA_V2efxZl4qepRNXZKH4UFmj5tNDwbvqaci26y5AezspC-4bIn_2fnOJNFG8HNrsP3n7HLYze5r0vFQOk85GzOtzf0M6ScMOIdJxQbzOQnBMu-FVR9884g0pgxuF6NNNNT8wcL1Emxz07CSZb6hKqkTKnnKE0Zf9b6WLRTg6z8xFHePBblMdGmhTfp_dL49Q1uNIHvzITD_dQ67omZqsdaonpCLM7GAu9bcYkkPblBnh5ezb6YVZZn9atRVGFopH7MMD2EOwxkU3Z6F5fpedSKZm8XQaSawzna9_fXGpi7y-PcCTd-YEqTsR26DIJR0L8kFNmtVcMJnns3i0V84oKwJLduLM6T2teQAz8_P1YhxK5HhaiF9h1Wl00yw-Y4LJoZvktWTXSb_-F8OW9oFMC-L5ADxVSspV43awHqxq5aIOXoX4dS6t8vNsMap8CO2Af4C_rG1ZaZkXfdCAFEVXcDX1gzBx1LAKc3iPxcEcsZioPrZSUANVXdwbYhfwSEP0PtP0NToYHP4QPt9yLaRG_5YKlNhjnWuohmkl_J4GSv3XEs4r2N0nJCXV5PTDCHal3u18iEjCzuRXrZjKbZ3viMAFq6IHklP-jypmmT8U2qIVPBB5JzxeiL95hWJh_YQ-uaQmaRiqIUNlSItPmC/download\nResolving public.boxcloud.com (public.boxcloud.com)... 74.112.185.96, 74.112.184.96, 107.152.24.200, ...\nConnecting to public.boxcloud.com (public.boxcloud.com)|74.112.185.96|:443... connected.\nHTTP request sent, awaiting response... 200 OK\nLength: 342130521 (326M) [application/zip]\nSaving to: \u20181c65hfqjxyxpdkts42oab8i8mzxbpvc8.zip\u2019\n\n100%[======================================>] 342,130,521 24.5MB/s   in 22s    \n\n2017-02-08 02:15:22 (15.1 MB/s) - \u20181c65hfqjxyxpdkts42oab8i8mzxbpvc8.zip\u2019 saved [342130521/342130521]\n\n", 
                    "name": "stdout", 
                    "output_type": "stream"
                }
            ], 
            "execution_count": 2, 
            "source": "!wget https://ibm.box.com/shared/static/1c65hfqjxyxpdkts42oab8i8mzxbpvc8.zip"
        }, 
        {
            "metadata": {
                "collapsed": false
            }, 
            "cell_type": "code", 
            "outputs": [
                {
                    "text": "Archive:  1c65hfqjxyxpdkts42oab8i8mzxbpvc8.zip\n   creating: ./resources/LabData/\n  inflating: ./resources/LabData/.DS_Store  \n   creating: ./resources/__MACOSX/\n   creating: ./resources/__MACOSX/LabData/\n  inflating: ./resources/__MACOSX/LabData/._.DS_Store  \n  inflating: ./resources/LabData/followers.txt  \n  inflating: ./resources/__MACOSX/LabData/._followers.txt  \n  inflating: ./resources/LabData/notebook.log  \n  inflating: ./resources/__MACOSX/LabData/._notebook.log  \n  inflating: ./resources/LabData/nyctaxi.csv  \n  inflating: ./resources/__MACOSX/LabData/._nyctaxi.csv  \n  inflating: ./resources/LabData/nyctaxi100.csv  \n  inflating: ./resources/__MACOSX/LabData/._nyctaxi100.csv  \n  inflating: ./resources/LabData/nyctaxisub.csv  \n  inflating: ./resources/__MACOSX/LabData/._nyctaxisub.csv  \n  inflating: ./resources/LabData/nycweather.csv  \n  inflating: ./resources/__MACOSX/LabData/._nycweather.csv  \n  inflating: ./resources/LabData/pom.xml  \n  inflating: ./resources/__MACOSX/LabData/._pom.xml  \n  inflating: ./resources/LabData/README.md  \n  inflating: ./resources/__MACOSX/LabData/._README.md  \n  inflating: ./resources/LabData/taxistreams.py  \n  inflating: ./resources/__MACOSX/LabData/._taxistreams.py  \n  inflating: ./resources/LabData/users.txt  \n  inflating: ./resources/__MACOSX/LabData/._users.txt  \n", 
                    "name": "stdout", 
                    "output_type": "stream"
                }
            ], 
            "execution_count": 3, 
            "source": "!unzip -o -d ./resources 1c65hfqjxyxpdkts42oab8i8mzxbpvc8.zip"
        }
    ], 
    "nbformat_minor": 0, 
    "nbformat": 4
}