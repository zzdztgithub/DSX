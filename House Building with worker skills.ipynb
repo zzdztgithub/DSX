{
    "nbformat": 4, 
    "cells": [
        {
            "cell_type": "markdown", 
            "metadata": {}, 
            "source": "# House Building with worker skills\n\nThis tutorial includes everything you need to set up decision optimization engines, build constraint programming models.\n\n\nWhen you finish this tutorial, you'll have a foundational knowledge of _Prescriptive Analytics_.\n\n>This notebook is part of the **[Prescriptive Analytics for Python](https://rawgit.com/IBMDecisionOptimization/docplex-doc/master/docs/index.html)**\n\n>It requires a valid subscription to **Decision Optimization on the Cloud**. Try it for free [here](https://developer.ibm.com/docloud)\n\nThis notebook runs on Python 2 with Spark 2.0.\n\nTable of contents:\n\n-  [Describe the business problem](#Describe-the-business-problem)\n*  [How decision optimization (prescriptive analytics) can help](#How--decision-optimization-can-help)\n*  [Use decision optimization](#Use-decision-optimization)\n    *  [Step 1: Download the library](#Step-1:-Download-the-library)\n    *  [Step 2: Set up the engines](#Step-2:-Set-up-the-prescriptive-engine)\n    -  [Step 3: Model the Data](#Step-3:-Model-the-data)\n    -  [Step 4: Set up the prescriptive model](#Step-4:-Set-up-the-prescriptive-model)\n        * [Define the decision variables](#Define-the-decision-variables)\n        * [Express the business constraints](#Express-the-business-constraints)\n        * [Express the objective](#Express-the-objective)\n        * [Solve with Decision Optimization solve service](#Solve-with-Decision-Optimization-solve-service)\n    *  [Step 5: Investigate the solution and run an example analysis](#Step-5:-Investigate-the-solution-and-then-run-an-example-analysis)\n*  [Summary](#Summary)\n****"
        }, 
        {
            "cell_type": "markdown", 
            "metadata": {}, 
            "source": "### Describe the business problem\n\n* This is a problem of building five houses in different locations; the masonry, roofing, painting, etc. must be scheduled. Some tasks must necessarily take place before others and these requirements are expressed through precedence constraints.\n\n* There are three workers, and each worker has a given skill level for each task. Each task requires one worker; the worker assigned must have a non-null skill level for the task. A worker can be assigned to only one task at a time.\n\n* Each house has a deadline. \n\n* The objective is to maximize the skill levels of the workers assigned to the tasks."
        }, 
        {
            "cell_type": "markdown", 
            "metadata": {}, 
            "source": "*****\n## How  decision optimization can help\n* Prescriptive analytics technology recommends actions based on desired outcomes, taking into account specific scenarios, resources, and knowledge of past and current events. This insight can help your organization make better decisions and have greater control of business outcomes.  \n\n* Prescriptive analytics is the next step on the path to insight-based actions. It creates value through synergy with predictive analytics, which analyzes data to predict future outcomes.  \n\n* Prescriptive analytics takes that insight to the next level by suggesting the optimal way to handle that future situation. Organizations that can act fast in dynamic conditions and make superior decisions in uncertain environments gain a strong competitive advantage.  \n<br/>\n\n+ For example:\n    + Automate complex decisions and trade-offs to better manage limited resources.\n    + Take advantage of a future opportunity or mitigate a future risk.\n    + Proactively update recommendations based on changing events.\n    + Meet operational goals, increase customer loyalty, prevent threats and fraud, and optimize business processes.\n"
        }, 
        {
            "cell_type": "markdown", 
            "metadata": {}, 
            "source": "<h2>About Detailed Scheduling concepts</h2>\n<p>\n<ul>\n<li> Scheduling consists of assigning starting and completion times to a set of activities while satisfying different types of constraints (resource availability, precedence relationships, \u2026 ) and optimizing some criteria (minimizing tardiness, \u2026)\n<!-- <img src = \"./house_building_utils/activity.png\" > -->\n<img src = \"https://github.com/IBMDecisionOptimization/docplex-examples/blob/master/examples/cp/jupyter/house_building_utils/activity.PNG?raw=true \" >\n<li> Time is considered as a continuous dimension: domain of possible start/completion times for an activity is potentially very large\n<li>Beside start and completion times of activities, other types of decision variables are often involved in real industrial scheduling problems (resource allocation, optional activities \u2026)\n</ul>"
        }, 
        {
            "cell_type": "markdown", 
            "metadata": {}, 
            "source": "## Use decision optimization"
        }, 
        {
            "cell_type": "markdown", 
            "metadata": {}, 
            "source": "### Step 1: Download the library\n\nRun the following code to install Decision Optimization CPLEX Modeling library.  The *DOcplex* library contains the two modeling packages, Mathematical Programming and Constraint Programming, referred to earlier."
        }, 
        {
            "cell_type": "code", 
            "metadata": {
                "collapsed": true
            }, 
            "source": "import sys\ntry:\n    import docplex.cp\nexcept:\n    if hasattr(sys, 'real_prefix'):\n        #we are in a virtual env.\n        !pip install docplex\n    else:\n        !pip install --user docplex", 
            "outputs": [], 
            "execution_count": 1
        }, 
        {
            "cell_type": "markdown", 
            "metadata": {}, 
            "source": "Note that the more global package <i>docplex</i> contains another subpackage <i>docplex.mp</i> that is dedicated to Mathematical Programming, another branch of optimization."
        }, 
        {
            "cell_type": "markdown", 
            "metadata": {}, 
            "source": "### Step 2: Set up the prescriptive engine\n\n* Subscribe to the [Decision Optimization on Cloud solve service](https://developer.ibm.com/docloud).\n* Get the service URL and your personal API key."
        }, 
        {
            "cell_type": "code", 
            "metadata": {
                "collapsed": true
            }, 
            "source": "# Initialize IBM Decision Optimization credentials\nSVC_URL = \"\" # ENTER YOUR URL HERE\nSVC_KEY = \"\" # ENTER YOUR KEY HERE", 
            "outputs": [], 
            "execution_count": 2
        }, 
        {
            "cell_type": "markdown", 
            "metadata": {}, 
            "source": "And for display of the solution, ensure last version of matplotlib is available:"
        }, 
        {
            "cell_type": "code", 
            "metadata": {
                "collapsed": true
            }, 
            "source": "try:\n   import matplotlib\n   if matplotlib.__version__ < \"1.4.3\":\n        !pip install --upgrade matplotlib\nexcept:\n   !pip install --user matplotlib", 
            "outputs": [], 
            "execution_count": 3
        }, 
        {
            "cell_type": "markdown", 
            "metadata": {}, 
            "source": "Now, we need to import all required modeling functions that are provided by the <i>docplex.cp</i> package:"
        }, 
        {
            "cell_type": "code", 
            "metadata": {
                "collapsed": true
            }, 
            "source": "from docplex.cp.model import *\nfrom sys import stdout\nfrom collections import namedtuple", 
            "outputs": [], 
            "execution_count": 4
        }, 
        {
            "cell_type": "markdown", 
            "metadata": {}, 
            "source": "### Step 3: Model the data"
        }, 
        {
            "cell_type": "markdown", 
            "metadata": {}, 
            "source": "Planning contains the number of houses and the max amount of periods (<i>days</i>) for our schedule"
        }, 
        {
            "cell_type": "code", 
            "metadata": {
                "collapsed": true
            }, 
            "source": "NB_HOUSES = 5\nMAX_AMOUNT_OF_PERIODS = 318\nHOUSES = range(1, NB_HOUSES + 1)", 
            "outputs": [], 
            "execution_count": 5
        }, 
        {
            "cell_type": "markdown", 
            "metadata": {}, 
            "source": "All tasks must start and end between 0 and the max amount of periods"
        }, 
        {
            "cell_type": "code", 
            "metadata": {
                "collapsed": true
            }, 
            "source": "period_domain = (0, MAX_AMOUNT_OF_PERIODS)", 
            "outputs": [], 
            "execution_count": 6
        }, 
        {
            "cell_type": "markdown", 
            "metadata": {}, 
            "source": "For each task type in the house building project, the following table shows the duration of the task in days along with the tasks that must be finished before the task can start. A worker can only work on one task at a time; each task, once started, may not be interrupted.\n<p>\n\n| *Task* | *Duration* | *Preceding tasks* |\n|---|---|---|\n| masonry \t| 35 |\t|\n| carpentry | 15 | masonry |\n| plumbing \t| 40 | masonry |\n| ceiling \t| 15 | masonry |\n| roofing \t| 5  | carpentry |\n| painting \t| 10 | ceiling |\n| windows \t| 5  | roofing |\n| facade \t| 10 | roofing, plumbing |\n| garden \t| 5  | roofing, plumbing |\n| moving \t| 5  | windows, facade, garden, painting | "
        }, 
        {
            "cell_type": "markdown", 
            "metadata": {}, 
            "source": "##### Tasks' durations"
        }, 
        {
            "cell_type": "code", 
            "metadata": {
                "collapsed": true
            }, 
            "source": "Task = (namedtuple(\"Task\", [\"name\", \"duration\"]))\nTASKS = {Task(\"masonry\",   35),\n         Task(\"carpentry\", 15),\n         Task(\"plumbing\",  40),\n         Task(\"ceiling\",   15),\n         Task(\"roofing\",    5),\n         Task(\"painting\",  10),\n         Task(\"windows\",    5),\n         Task(\"facade\",    10),\n         Task(\"garden\",     5),\n         Task(\"moving\",     5),\n        }", 
            "outputs": [], 
            "execution_count": 7
        }, 
        {
            "cell_type": "markdown", 
            "metadata": {}, 
            "source": "##### The tasks precedences"
        }, 
        {
            "cell_type": "code", 
            "metadata": {
                "collapsed": true
            }, 
            "source": "TaskPrecedence = (namedtuple(\"TaskPrecedence\", [\"beforeTask\", \"afterTask\"]))\nTASK_PRECEDENCES = {TaskPrecedence(\"masonry\",   \"carpentry\"),\n                    TaskPrecedence(\"masonry\",   \"plumbing\"),\n                    TaskPrecedence(\"masonry\",   \"ceiling\"),\n                    TaskPrecedence(\"carpentry\", \"roofing\"),\n                    TaskPrecedence(\"ceiling\",   \"painting\"),\n                    TaskPrecedence(\"roofing\",   \"windows\"),\n                    TaskPrecedence(\"roofing\",   \"facade\"),\n                    TaskPrecedence(\"plumbing\",  \"facade\"),\n                    TaskPrecedence(\"roofing\",   \"garden\"),\n                    TaskPrecedence(\"plumbing\",  \"garden\"),\n                    TaskPrecedence(\"windows\",   \"moving\"),\n                    TaskPrecedence(\"facade\",    \"moving\"),\n                    TaskPrecedence(\"garden\",    \"moving\"),\n                    TaskPrecedence(\"painting\",  \"moving\"),\n                   }", 
            "outputs": [], 
            "execution_count": 8
        }, 
        {
            "cell_type": "markdown", 
            "metadata": {}, 
            "source": "There are three workers with varying skill levels in regard to the ten tasks. If a worker has a skill level of zero for a task, he may not be assigned to the task.\n<p>\n\n| *Task* | *Joe* | *Jack* | *Jim* |\n|---|---|---|---|\n|masonry   |9 |\t5 |\t0|\n|carpentry |7 |\t0 |\t5|\n|plumbing  |0 |\t7 |\t0|\n|ceiling   |5 |\t8 |\t0|\n|roofing   |6 |\t7 |\t0|\n|painting  |0 |\t9 |\t6|\n|windows   |8 |\t0 |\t5|\n|fa\u00e7ade    |5 |\t5 |\t0|\n|garden    |5 |\t5 |\t9|\n|moving    |6 |\t0 |\t8|"
        }, 
        {
            "cell_type": "markdown", 
            "metadata": {}, 
            "source": "##### Workers Names"
        }, 
        {
            "cell_type": "code", 
            "metadata": {
                "collapsed": true
            }, 
            "source": "WORKERS = {\"Joe\", \"Jack\", \"Jim\"}", 
            "outputs": [], 
            "execution_count": 9
        }, 
        {
            "cell_type": "markdown", 
            "metadata": {}, 
            "source": "##### Workers Name and level for each of there skill"
        }, 
        {
            "cell_type": "code", 
            "metadata": {
                "collapsed": true
            }, 
            "source": "Skill = (namedtuple(\"Skill\", [\"worker\", \"task\", \"level\"]))\nSKILLS = {Skill(\"Joe\",  \"masonry\",   9),\n          Skill(\"Joe\",  \"carpentry\", 7),\n          Skill(\"Joe\",  \"ceiling\",   5),\n          Skill(\"Joe\",  \"roofing\",   6),\n          Skill(\"Joe\",  \"windows\",   8),\n          Skill(\"Joe\",  \"facade\",    5),\n          Skill(\"Joe\",  \"garden\",    5),\n          Skill(\"Joe\",  \"moving\",    6),\n          Skill(\"Jack\", \"masonry\",   5),\n          Skill(\"Jack\", \"plumbing\",  7),\n          Skill(\"Jack\", \"ceiling\",   8),\n          Skill(\"Jack\", \"roofing\",   7),\n          Skill(\"Jack\", \"painting\",  9),\n          Skill(\"Jack\", \"facade\",    5),\n          Skill(\"Jack\", \"garden\",    5),\n          Skill(\"Jim\",  \"carpentry\", 5),\n          Skill(\"Jim\",  \"painting\",  6),\n          Skill(\"Jim\",  \"windows\",   5),\n          Skill(\"Jim\",  \"garden\",    9),\n          Skill(\"Jim\",  \"moving\",    8)\n          }", 
            "outputs": [], 
            "execution_count": 10
        }, 
        {
            "cell_type": "markdown", 
            "metadata": {}, 
            "source": "##### Utility functions"
        }, 
        {
            "cell_type": "markdown", 
            "metadata": {}, 
            "source": "find_tasks: returns the task it refers to in the TASKS vector"
        }, 
        {
            "cell_type": "code", 
            "metadata": {
                "collapsed": true
            }, 
            "source": "def find_tasks(name):\n    return next(t for t in TASKS if t.name == name)", 
            "outputs": [], 
            "execution_count": 11
        }, 
        {
            "cell_type": "markdown", 
            "metadata": {}, 
            "source": "find_skills: returns the skill it refers to in the SKILLS vector"
        }, 
        {
            "cell_type": "code", 
            "metadata": {
                "collapsed": true
            }, 
            "source": "def find_skills(worker, task):\n    return next(s for s in SKILLS if (s.worker == worker) and (s.task == task))", 
            "outputs": [], 
            "execution_count": 12
        }, 
        {
            "cell_type": "markdown", 
            "metadata": {}, 
            "source": "find_max_level_skill: returns the tuple \"skill\" where the level is themaximum for a given task"
        }, 
        {
            "cell_type": "code", 
            "metadata": {
                "collapsed": true
            }, 
            "source": "def find_max_level_skill(task):\n    st = [s for s in SKILLS if s.task == task]\n    return next(sk for sk in st if sk.level == max([s.level for s in st]))", 
            "outputs": [], 
            "execution_count": 13
        }, 
        {
            "cell_type": "markdown", 
            "metadata": {}, 
            "source": "### Step 4: Set up the prescriptive model"
        }, 
        {
            "cell_type": "markdown", 
            "metadata": {}, 
            "source": "<h3>Create the model container</h3>\n<p>\nThe model is represented by a Python object that is filled with the different model elements (variables, constraints, objective function, etc). The first thing to do is then to create such an object:"
        }, 
        {
            "cell_type": "code", 
            "metadata": {
                "collapsed": true
            }, 
            "source": "mdl = CpoModel(name=\"HouseBuilding\")", 
            "outputs": [], 
            "execution_count": 14
        }, 
        {
            "cell_type": "markdown", 
            "metadata": {}, 
            "source": "#### Define the decision variables"
        }, 
        {
            "cell_type": "markdown", 
            "metadata": {}, 
            "source": "<h5><i><font color=blue>Concept: interval variable</font></i></h5>\n<p>\n<ul>\n<li> What for?<br>\n<blockquote> Modeling an interval of time during which a particular property holds <br>\n(an activity executes, a resource is idle, a tank must be non-empty, \u2026)</blockquote> \n<li> Example:<br>\n<blockquote><code><font color=green>interval_var(start=(0,1000), end=(0,1000), size=(10,20))</font></code>\n</blockquote> \n<!-- <img src = \"./house_building_utils/intervalVar.png\" > -->\n<img src = \"https://github.com/IBMDecisionOptimization/docplex-examples/blob/master/examples/cp/jupyter/house_building_utils/intervalVar.PNG?raw=true\" >\n<li>Properties:\n<ul>\n<li>The **value** of an interval variable is an integer interval [start,end) \n<li>**Domain**  of possible values: [0,10), [1,11), [2,12),...[990,1000), [0,11),[1,12),...\n<li>Domain of interval variables is represented **compactly** in CP Optimizer (a few bounds: smin, smax, emin, emax, szmin, szmax)\n</ul>\n</ul>"
        }, 
        {
            "cell_type": "markdown", 
            "metadata": {}, 
            "source": "For each house, an interval variable is created for each task.<br>\nThis interval must start and end inside the period_domain and its duration is set as the value stated in TASKS definition."
        }, 
        {
            "cell_type": "code", 
            "metadata": {
                "collapsed": true
            }, 
            "source": "tasks = {}   # dict of interval variable for each house and task\nfor house in HOUSES:\n    for task in TASKS:\n        tasks[(house, task)] = interval_var(start=period_domain,\n                                            end=period_domain,\n                                            size=task.duration,\n                                            name=\"house {} task {}\".format(house, task))", 
            "outputs": [], 
            "execution_count": 15
        }, 
        {
            "cell_type": "markdown", 
            "metadata": {}, 
            "source": "<h5><i><font color=blue>Concept: optional interval variable</font></i></h5>\n<p>\n<ul>\n<li>Interval variables can be defined as being **optional** that is, it is part of the decisions of the problem to decide whether the interval will be **present** or **absent** in the solution<br>\n<li> What for?<br>\n<blockquote> Modeling optional activities, alternative execution modes for activities, and \u2026 most of the discrete decisions in a schedule</blockquote> \n<li> Example:<br>\n<blockquote><code><font color=green>interval_var(</font><font color=red>optional=True</font><font color=green>, start=(0,1000), end=(0,1000), size=(10,20))</font></code>\n</blockquote> \n<li>Properties:\n<ul>\n<li>An optional interval variable has an additional possible value in its domain (absence value)\n<li>**Optionality** is a powerful property that you must learn to leverage in your models\n</ul>\n</ul>"
        }, 
        {
            "cell_type": "markdown", 
            "metadata": {}, 
            "source": "For each house, an __optional__ interval variable is created for each skill.<br>\nSkill being a tuple (worker, task, level), this means that for each house, an __optional__ interval variable is created for each couple worker-task such that the skill level of this worker for this task is > 0.<p>\nThe \"**set_optional()**\" specifier allows a choice between different variables, thus between different couples house-skill.\nThis means that the engine decides if the interval will be present or absent in the solution."
        }, 
        {
            "cell_type": "code", 
            "metadata": {
                "collapsed": true
            }, 
            "source": "wtasks = {}  # dict of interval variable for each house and skill\nfor house in HOUSES:\n    for skill in SKILLS:\n        iv = interval_var(name='H' + str(house) + '-' + skill.task + '(' + skill.worker + ')')\n        iv.set_optional()\n        wtasks[(house, skill)] = iv", 
            "outputs": [], 
            "execution_count": 16
        }, 
        {
            "cell_type": "markdown", 
            "metadata": {}, 
            "source": "#### Express the business constraints"
        }, 
        {
            "cell_type": "markdown", 
            "metadata": {}, 
            "source": "<h5>Temporal constraints</h5>"
        }, 
        {
            "cell_type": "markdown", 
            "metadata": {}, 
            "source": "<h5><i><font color=blue>Concept: precedence constraint</font></i></h5>\n<p>\n<ul>\n<li> What for?<br>\n<ul>\n<li>Modeling temporal constraints between interval variables\n<li>Modeling constant or variable minimal delays\n</ul>\n<li>Properties\n<blockquote>Semantic of the constraints handles optionality (as for all constraints in CP Optimizer).<br>\nExample of endBeforeStart:<br>\n<code><font color=green>end_before_start(a,b,z)</font></code><br>\npresent(a) <font color=red>AND</font> present(b)  &Implies;  end(a)+z &LessSlantEqual; start(b) \n</blockquote>\n<ul>"
        }, 
        {
            "cell_type": "markdown", 
            "metadata": {}, 
            "source": "The tasks in the model have precedence constraints that are added to the model."
        }, 
        {
            "cell_type": "code", 
            "metadata": {
                "collapsed": true
            }, 
            "source": "for h in HOUSES:\n    for p in TASK_PRECEDENCES:\n        mdl.add(end_before_start(tasks[(h, find_tasks(p.beforeTask))], tasks[(h, find_tasks(p.afterTask))]))", 
            "outputs": [], 
            "execution_count": 17
        }, 
        {
            "cell_type": "markdown", 
            "metadata": {}, 
            "source": "<h5>Alternative workers</h5>"
        }, 
        {
            "cell_type": "markdown", 
            "metadata": {}, 
            "source": "<h5><i><font color=blue>Concept: alternative constraint</font></i></h5>\n<p>\n<ul>\n<li> What for?<br>\n<ul>\n<li>Modeling alternative resource/modes/recipes \n<li>In general modeling a discrete selection in the schedule \n</ul>\n<li> Example:<br>\n<blockquote><code><font color=green>alternative(a,[b1,...,bn])</font></code>\n</blockquote> \n<!-- <img src = \"./house_building_utils/alternative.png\" > -->\n<img src = \"https://github.com/IBMDecisionOptimization/docplex-examples/blob/master/examples/cp/jupyter/house_building_utils/alternative.PNG?raw=true\" >\n<li>Remark: Master interval variable **a** can of course be optional\n</ul>"
        }, 
        {
            "cell_type": "markdown", 
            "metadata": {}, 
            "source": "To constrain the solution so that exactly one of the interval variables wtasks associated with a given task of a given house is to be present in the solution, an \"**alternative**\" constraint is used."
        }, 
        {
            "cell_type": "code", 
            "metadata": {
                "collapsed": true
            }, 
            "source": "for h in HOUSES:\n    for t in TASKS:\n        mdl.add(alternative(tasks[(h, t)], [wtasks[(h, s)] for s in SKILLS if (s.task == t.name)], 1))", 
            "outputs": [], 
            "execution_count": 18
        }, 
        {
            "cell_type": "markdown", 
            "metadata": {}, 
            "source": "<h5>No overlap constraint</h5>"
        }, 
        {
            "cell_type": "markdown", 
            "metadata": {}, 
            "source": "<h5><i><font color=blue>Concept: No-overlap constraint</font></i></h5>\n<p>\n<ul>\n<li> Constraint noOverlap schedules a group of interval variables in such a way that they do not overlap in time.\n<li> Absent interval variables are ignored.\n<li>It is possible to constrain minimum delays between intervals using transition matrix.\n<li>It is possible to constraint the first, last in the sequence or next or preceding interval\n</ul>\n<!-- <img src = \"./house_building_utils/noOverlap.png\" > -->\n<img src = \"https://github.com/IBMDecisionOptimization/docplex-examples/blob/master/examples/cp/jupyter/house_building_utils/noOverlap.PNG?raw=true\" >"
        }, 
        {
            "cell_type": "markdown", 
            "metadata": {}, 
            "source": "To add the constraints that a given worker can be assigned only one task at a given moment in time, a  **noOverlap** constraint is used."
        }, 
        {
            "cell_type": "code", 
            "metadata": {
                "collapsed": true
            }, 
            "source": "for w in WORKERS:\n    mdl.add(no_overlap([wtasks[(h, s)] for h in HOUSES for s in SKILLS if s.worker == w]))", 
            "outputs": [], 
            "execution_count": 19
        }, 
        {
            "cell_type": "markdown", 
            "metadata": {}, 
            "source": "#### Express the objective"
        }, 
        {
            "cell_type": "markdown", 
            "metadata": {}, 
            "source": "The presence of an interval variable in wtasks in the solution must be accounted for in the objective. Thus for each of these possible tasks, the cost is incremented by the product of the skill level and the expression representing the presence of the interval variable in the solution.<p>\nThe objective of this problem is to maximize the skill level used for all the tasks."
        }, 
        {
            "cell_type": "code", 
            "metadata": {
                "collapsed": false
            }, 
            "source": "obj = sum([s.level * presence_of(wtasks[(h, s)]) for s in SKILLS for h in HOUSES])\nmdl.add(maximize(obj))", 
            "outputs": [], 
            "execution_count": 20
        }, 
        {
            "cell_type": "markdown", 
            "metadata": {}, 
            "source": "The model is now completely defined. It is time to solve it !\n<p>\nTo use the CP Optimizer solver available on the IBM Decision Optimization on Cloud service:\n<ul>\n<li> Register for the DOcplexcloud free trial and use it free for 30 days by using https://developer.ibm.com/docloud/try-docloud-free\n<li> Get your access credentials (base URL and access key) by going this page: http://developer.ibm.com/docloud/docs/api-key/\n</ul>\n<p>"
        }, 
        {
            "cell_type": "markdown", 
            "metadata": {}, 
            "source": "#### Solve with Decision Optimization solve service"
        }, 
        {
            "cell_type": "code", 
            "metadata": {
                "collapsed": false
            }, 
            "source": "# Solve the model\nprint(\"\\nSolving model....\")\nmsol = mdl.solve(url=\"\", key=\"\", TimeLimit=10)", 
            "outputs": [
                {
                    "text": "\nSolving model....\n", 
                    "output_type": "stream", 
                    "name": "stdout"
                }
            ], 
            "execution_count": 21
        }, 
        {
            "cell_type": "markdown", 
            "metadata": {}, 
            "source": "### Step 5: Investigate the solution and then run an example analysis"
        }, 
        {
            "cell_type": "code", 
            "metadata": {
                "collapsed": false
            }, 
            "source": "print(\"Solve status: \" + msol.get_solve_status())\nif msol.is_solution():\n    stdout.write(\"Solve time: \" + str(msol.get_solve_time()) + \"\\n\")\n    # Sort tasks in increasing begin order\n    ltasks = []\n    for hs in HOUSES:\n        for tsk in TASKS:\n            (beg, end, dur) = msol[tasks[(hs, tsk)]]\n            ltasks.append((hs, tsk, beg, end, dur))\n    ltasks = sorted(ltasks, key = lambda x : x[2])\n    # Print solution\n    print(\"\\nList of tasks in increasing start order:\")\n    for tsk in ltasks:\n        print(\"From \" + str(tsk[2]) + \" to \" + str(tsk[3]) + \", \" + tsk[1].name + \" in house \" + str(tsk[0]))\nelse:\n    stdout.write(\"No solution found\\n\")", 
            "outputs": [
                {
                    "text": "Solve status: Feasible\nSolve time: 13.6514310837\n\nList of tasks in increasing start order:\nFrom 0 to 35, masonry in house 1\nFrom 0 to 35, masonry in house 2\nFrom 35 to 50, ceiling in house 2\nFrom 35 to 70, masonry in house 3\nFrom 50 to 90, plumbing in house 1\nFrom 50 to 60, painting in house 2\nFrom 70 to 85, carpentry in house 3\nFrom 70 to 105, masonry in house 4\nFrom 90 to 105, ceiling in house 3\nFrom 105 to 115, painting in house 3\nFrom 105 to 120, ceiling in house 4\nFrom 105 to 140, masonry in house 5\nFrom 120 to 160, plumbing in house 2\nFrom 120 to 130, painting in house 4\nFrom 140 to 155, carpentry in house 5\nFrom 155 to 170, carpentry in house 4\nFrom 160 to 200, plumbing in house 3\nFrom 170 to 185, ceiling in house 5\nFrom 185 to 200, ceiling in house 1\nFrom 200 to 210, painting in house 1\nFrom 200 to 215, carpentry in house 2\nFrom 200 to 240, plumbing in house 4\nFrom 215 to 230, carpentry in house 1\nFrom 230 to 235, roofing in house 1\nFrom 235 to 240, garden in house 1\nFrom 235 to 240, windows in house 1\nFrom 240 to 250, facade in house 1\nFrom 240 to 245, roofing in house 4\nFrom 245 to 250, roofing in house 2\nFrom 245 to 250, garden in house 4\nFrom 250 to 255, garden in house 2\nFrom 250 to 255, windows in house 2\nFrom 250 to 255, roofing in house 3\nFrom 255 to 260, garden in house 3\nFrom 255 to 260, windows in house 4\nFrom 255 to 260, roofing in house 5\nFrom 260 to 300, plumbing in house 5\nFrom 260 to 265, windows in house 5\nFrom 265 to 270, windows in house 3\nFrom 270 to 280, facade in house 2\nFrom 280 to 290, facade in house 3\nFrom 285 to 290, moving in house 2\nFrom 290 to 295, moving in house 3\nFrom 290 to 300, facade in house 4\nFrom 295 to 300, moving in house 1\nFrom 300 to 305, garden in house 5\nFrom 300 to 310, painting in house 5\nFrom 300 to 310, facade in house 5\nFrom 305 to 310, moving in house 4\nFrom 310 to 315, moving in house 5\n", 
                    "output_type": "stream", 
                    "name": "stdout"
                }
            ], 
            "execution_count": 22
        }, 
        {
            "cell_type": "markdown", 
            "metadata": {}, 
            "source": "#### Import graphical tools"
        }, 
        {
            "cell_type": "markdown", 
            "metadata": {}, 
            "source": "*You can set __POP\\_UP\\_GRAPHIC=True__ if you prefer a pop up graphic window instead of an inline one.*"
        }, 
        {
            "cell_type": "code", 
            "metadata": {
                "collapsed": true
            }, 
            "source": "POP_UP_GRAPHIC=False", 
            "outputs": [], 
            "execution_count": 23
        }, 
        {
            "cell_type": "code", 
            "metadata": {
                "collapsed": true
            }, 
            "source": "import docplex.cp.utils_visu as visu\nimport matplotlib.pyplot as plt\nif not POP_UP_GRAPHIC:\n    %matplotlib inline\n#Change the plot size\nfrom pylab import rcParams\nrcParams['figure.figsize'] = 15, 3", 
            "outputs": [], 
            "execution_count": 24
        }, 
        {
            "cell_type": "markdown", 
            "metadata": {}, 
            "source": "#### Draw solution"
        }, 
        {
            "cell_type": "markdown", 
            "metadata": {}, 
            "source": "#### Useful functions "
        }, 
        {
            "cell_type": "markdown", 
            "metadata": {}, 
            "source": "With the aim to facilitate the display of tasks names, we keep only the n first characters."
        }, 
        {
            "cell_type": "code", 
            "metadata": {
                "collapsed": true
            }, 
            "source": "def compact_name(name,n): return name[:n]", 
            "outputs": [], 
            "execution_count": 25
        }, 
        {
            "cell_type": "code", 
            "metadata": {
                "collapsed": false
            }, 
            "source": "if msol and visu.is_visu_enabled():\n    workers_colors = {}\n    workers_colors[\"Joe\"] = 'lightblue'\n    workers_colors[\"Jack\"] = 'violet'\n    workers_colors[\"Jim\"] = 'lightgreen'\n    visu.timeline('Solution per houses', 0, MAX_AMOUNT_OF_PERIODS)\n    for h in HOUSES:\n        visu.sequence(name=\"house \" + str(h))\n        for s in SKILLS:\n            wt = msol.get_var_solution(wtasks[(h,s)])\n            if wt.is_present():\n                color = workers_colors[s.worker]\n                wtname = compact_name(s.task,2)\n                visu.interval(wt, color, wtname)\n    visu.show()", 
            "outputs": [
                {
                    "metadata": {}, 
                    "data": {
                        "text/plain": "<matplotlib.figure.Figure at 0x7fded2f50dd0>", 
                        "image/png": "[encoded data removed]"
                    }, 
                    "output_type": "display_data"
                }
            ], 
            "execution_count": 26
        }, 
        {
            "cell_type": "markdown", 
            "metadata": {}, 
            "source": "The purpose of this function is to compact the names of the different tasks with the aim of making the graphical display readable. </p>\nFor example \"H3-garden\" becomes \"G3\""
        }, 
        {
            "cell_type": "code", 
            "metadata": {
                "collapsed": true
            }, 
            "source": "def compact_house_task(name):\n    loc, task = name[1:].split('-', 1)\n    return task[0].upper() + loc", 
            "outputs": [], 
            "execution_count": 27
        }, 
        {
            "cell_type": "markdown", 
            "metadata": {}, 
            "source": "Green-like color when task is using the most skilled worker\nRed-like color when task does not use the most skilled worker"
        }, 
        {
            "cell_type": "code", 
            "metadata": {
                "collapsed": false
            }, 
            "source": "if msol and visu.is_visu_enabled():\n    visu.timeline('Solution per workers', 0, MAX_AMOUNT_OF_PERIODS)\n    for w in WORKERS:\n        visu.sequence(name=w)\n        for h in HOUSES:\n            for s in SKILLS:\n                if s.worker == w:\n                    wt = msol.get_var_solution(wtasks[(h,s)])\n                    if wt.is_present():\n                        ml = find_max_level_skill(s.task).level\n                        if s.level == ml:\n                            color = 'lightgreen'\n                        else:\n                            color = 'salmon'\n                        wtname = compact_house_task(wt.get_name())\n                        visu.interval(wt, color, wtname)\n    visu.show()", 
            "outputs": [
                {
                    "metadata": {}, 
                    "data": {
                        "text/plain": "<matplotlib.figure.Figure at 0x7fded2ef0190>", 
                        "image/png": "[encoded data removed]"
                    }, 
                    "output_type": "display_data"
                }
            ], 
            "execution_count": 28
        }, 
        {
            "cell_type": "markdown", 
            "metadata": {}, 
            "source": "<h4>Going further with Constraint Programming</h4>\n\nThe last available installable package is available on Pypi here: https://pypi.python.org/pypi/docplex\n\nA complete set of modeling examples can be downloaded here: https://github.com/IBMDecisionOptimization/docplex-examples  "
        }, 
        {
            "cell_type": "markdown", 
            "metadata": {}, 
            "source": "## Summary\n\nYou learned how to set up and use the IBM Decision Optimization CPLEX Modeling for Python to formulate a Constraint Programming model and solve it with IBM Decision Optimization on the cloud."
        }, 
        {
            "cell_type": "markdown", 
            "metadata": {}, 
            "source": "## Author\n\n<b>Christiane BRACCHI</b> joined IBM (formerly ILOG) Optimization development team in 1998 and has worked in Constraint Programming since 1989, contributed to the development of the first commercialized constraint programming product. She works on the IBM CP Optimizer engine and its various modeling tools, especially OPL, Concert and Python interface.\n\n"
        }, 
        {
            "cell_type": "markdown", 
            "metadata": {}, 
            "source": "## References\n* [CPLEX Modeling for Python documentation](https://rawgit.com/IBMDecisionOptimization/docplex-doc/master/docs/index.html)\n* [Decision Optimization on Cloud](https://developer.ibm.com/docloud/)\n* Need help with DOcplex or to report a bug? Please go [here](https://developer.ibm.com/answers/smartspace/docloud)\n* Contact us at dofeedback@wwpdl.vnet.ibm.com"
        }, 
        {
            "cell_type": "markdown", 
            "metadata": {}, 
            "source": "Copyright \u00a9 2017 IBM. This notebook and its source code are released under the terms of the MIT License."
        }
    ], 
    "metadata": {
        "kernelspec": {
            "display_name": "Python 2 with Spark 2.0", 
            "name": "python2-spark20", 
            "language": "python"
        }, 
        "language_info": {
            "codemirror_mode": {
                "version": 2, 
                "name": "ipython"
            }, 
            "version": "2.7.11", 
            "nbconvert_exporter": "python", 
            "mimetype": "text/x-python", 
            "file_extension": ".py", 
            "name": "python", 
            "pygments_lexer": "ipython2"
        }
    }, 
    "nbformat_minor": 0
}